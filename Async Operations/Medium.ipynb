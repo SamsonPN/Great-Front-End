{
 "cells": [
  {
   "cell_type": "markdown",
   "id": "a6275991",
   "metadata": {},
   "source": [
    "* Filter:\n",
    "    - Importance: High => Low\n",
    "    - Medium questions only"
   ]
  },
  {
   "cell_type": "markdown",
   "id": "1419dcf6",
   "metadata": {},
   "source": [
    "## Debounce\n",
    "\n",
    "* main pitfall is being able to access `this` from inside the callback\n",
    "* there are 2 ways of doing this:\n",
    "    1. have a variable initialized with the `this` value inside the returned debounced function\n",
    "        * then you use `.call(thisArgs, ...args)`\n",
    "    2. use an arrow function inside the setTimeout\n",
    "        * the `this` inside the setTimeout will be the same one in the outer function\n",
    "        * so you skip the step of having to initialize and use the outer function's `this` value\n",
    "* we should NOT return an arrow function inside the debounce()\n",
    "    - reason being, it's bound to the place it was created and not where it's called\n",
    "* for example:\n",
    "\n",
    "```\n",
    "const increment = debounce(function(num) {\n",
    "    console.log(this);\n",
    "    this.val += num;\n",
    "}, 10);\n",
    "\n",
    "const obj = {\n",
    "    val: 2,\n",
    "    increment,\n",
    "};\n",
    "\n",
    "obj.increment(5);\n",
    "```\n",
    "* if you tried this in jsfiddle in which the debounce returned an arrow function instead of a function(), `this` would be the window object and not obj"
   ]
  },
  {
   "cell_type": "code",
   "execution_count": null,
   "id": "98185ef7",
   "metadata": {},
   "outputs": [],
   "source": [
    "// my solution\n",
    "\n",
    "/**\n",
    " * @param {Function} func\n",
    " * @param {number} wait\n",
    " * @return {Function}\n",
    " * \n",
    " * must wait until after x milliseconds after\n",
    " * last debounced function was last called\n",
    " * in order to actually execute the real function\n",
    " */\n",
    "export default function debounce(func, wait) {\n",
    "  // need to settimeout before calling the function\n",
    "  let timer;\n",
    "\n",
    "  // every time we call debounced function\n",
    "  // it returns a function\n",
    "\n",
    "  return function(...args) {\n",
    "    // if it's called, we clear the timer\n",
    "    clearTimeout(timer);\n",
    "    const that = this;\n",
    "    // set a new timer\n",
    "    timer = setTimeout(function() {\n",
    "      func.call(that, ...args);\n",
    "    }, wait);\n",
    "  }\n",
    "}"
   ]
  },
  {
   "cell_type": "code",
   "execution_count": null,
   "id": "50fa3fce",
   "metadata": {},
   "outputs": [],
   "source": [
    "// actual solution\n",
    "\n",
    "/**\n",
    " * @callback func\n",
    " * @param {number} wait\n",
    " * @return {Function}\n",
    " */\n",
    "export default function debounce(func, wait = 0) {\n",
    "  let timeoutID = null;\n",
    "  return function (...args) {\n",
    "    clearTimeout(timeoutID);\n",
    "\n",
    "    timeoutID = setTimeout(() => {\n",
    "      timeoutID = null; // Not strictly necessary but good to include.\n",
    "      // Has the same `this` as the outer function's\n",
    "      // as it's within an arrow function.\n",
    "      func.apply(this, args);\n",
    "    }, wait);\n",
    "  };\n",
    "}"
   ]
  },
  {
   "cell_type": "code",
   "execution_count": null,
   "id": "1afd5866",
   "metadata": {},
   "outputs": [],
   "source": []
  },
  {
   "cell_type": "code",
   "execution_count": null,
   "id": "3e36a77a",
   "metadata": {},
   "outputs": [],
   "source": []
  },
  {
   "cell_type": "code",
   "execution_count": null,
   "id": "5363e50d",
   "metadata": {},
   "outputs": [],
   "source": []
  }
 ],
 "metadata": {
  "kernelspec": {
   "display_name": "JavaScript (Node.js)",
   "language": "javascript",
   "name": "javascript"
  },
  "language_info": {
   "file_extension": ".js",
   "mimetype": "application/javascript",
   "name": "javascript",
   "version": "16.14.2"
  }
 },
 "nbformat": 4,
 "nbformat_minor": 5
}
