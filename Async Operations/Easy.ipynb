{
 "cells": [
  {
   "cell_type": "markdown",
   "id": "d56eb159",
   "metadata": {},
   "source": [
    "* Filter:\n",
    "    - Importance: High => Low\n",
    "    - Easy questions only"
   ]
  },
  {
   "cell_type": "markdown",
   "id": "44a7102e",
   "metadata": {},
   "source": [
    "## Promise.race()\n",
    "\n",
    "* `.forEach` runs synchronously and initiates all of these async functions are the same time\n",
    "    - you can also do this with `.map` as well\n",
    "    - it has to be a higher order function\n",
    "* whichever one's the fastest will just resolve right away"
   ]
  },
  {
   "cell_type": "code",
   "execution_count": null,
   "id": "094ed5ef",
   "metadata": {},
   "outputs": [],
   "source": [
    "/**\n",
    " * @param {Array} iterable\n",
    " * @return {Promise}\n",
    " */\n",
    "export default function promiseRace(iterable) {\n",
    "  return new Promise((resolve, reject) => {\n",
    "    iterable.forEach(async (item) => {\n",
    "      try {\n",
    "        const value = await item;\n",
    "        resolve(item);\n",
    "      } catch(e) {\n",
    "        reject(e);\n",
    "      }\n",
    "    })\n",
    "  })\n",
    "}"
   ]
  },
  {
   "cell_type": "markdown",
   "id": "afff00d4",
   "metadata": {},
   "source": [
    "## Cancellable Interval\n",
    "\n",
    "* pretty straightforward\n",
    "* just have to remember that setInterval can take in an arbitrary number of arguments after the delay"
   ]
  },
  {
   "cell_type": "code",
   "execution_count": null,
   "id": "dcc885f4",
   "metadata": {},
   "outputs": [],
   "source": [
    "/**\n",
    " * @param {Function} callback\n",
    " * @param {number} delay\n",
    " * @param {...any} args\n",
    " * @returns {Function}\n",
    " * \n",
    " * function that cancels the interval\n",
    " *  - would probably still use setInterval\n",
    " *  - but we keep a reference to its timer id\n",
    " *  - then we return a function that will call clearInterval(timerId)\n",
    " */\n",
    "export default function setCancellableInterval(callback, delay, ...args) {\n",
    "  const timerId = setInterval(callback, delay, ...args);\n",
    "\n",
    "  return function() {\n",
    "    clearTimeout(timerId);\n",
    "  }\n",
    "}"
   ]
  },
  {
   "cell_type": "markdown",
   "id": "eb90db0f",
   "metadata": {},
   "source": [
    "## Cancellable Timeout\n",
    "\n",
    "* the exact same as Cancellable Interval except we use setTimeout instead and clearTimeout in the returned cancel function"
   ]
  },
  {
   "cell_type": "code",
   "execution_count": null,
   "id": "f7eab009",
   "metadata": {},
   "outputs": [],
   "source": [
    "/**\n",
    " * @param {Function} callback\n",
    " * @param {number} delay\n",
    " * @param {...any} args\n",
    " * @returns {Function}\n",
    " */\n",
    "export default function setCancellableTimeout(callback, delay, ...args) {\n",
    "  const timerId = setTimeout(callback, delay, ...args);\n",
    "\n",
    "  return function() {\n",
    "    clearTimeout(timerId);\n",
    "  }\n",
    "}"
   ]
  },
  {
   "cell_type": "markdown",
   "id": "907b26cf",
   "metadata": {},
   "source": [
    "## Promise.reject()"
   ]
  },
  {
   "cell_type": "code",
   "execution_count": null,
   "id": "67a3e549",
   "metadata": {},
   "outputs": [],
   "source": [
    "/**\n",
    " * @param {*} reason\n",
    " * @returns Promise\n",
    " * \n",
    " */\n",
    "export default function promiseReject(reason) {\n",
    "  return new Promise((_, reject) => {\n",
    "    reject(reason);\n",
    "  });\n",
    "}"
   ]
  },
  {
   "cell_type": "markdown",
   "id": "0ac052d9",
   "metadata": {},
   "source": [
    "## Sleep\n",
    "\n",
    "* my implementation is non-blocking\n",
    "    - other asynchronous tasks can still run the in background\n",
    "* the other implementation is blocking\n",
    "    - notice that the setInterval callbacks do not run until after greeting() is finished"
   ]
  },
  {
   "cell_type": "code",
   "execution_count": null,
   "id": "dc09f99f",
   "metadata": {},
   "outputs": [],
   "source": [
    "/**\n",
    " * @param {number} duration\n",
    " * @return {Promise<void>}\n",
    " * \n",
    " * should be able to be used without await\n",
    " * should definitely return a promise then\n",
    " */\n",
    "export default async function sleep(duration) {\n",
    "  return new Promise(resolve => {\n",
    "    setTimeout(resolve, duration);\n",
    "  });\n",
    "}\n",
    "\n",
    "async function greeting() {\n",
    "  console.log('Hello!');\n",
    "  await sleep(2000);\n",
    "  console.log('Bye.');\n",
    "}\n",
    "\n",
    "setInterval(() => {\n",
    "  console.log('Tick');\n",
    "}, 500);\n",
    "\n",
    "greeting();\n",
    "// t = 0: Hello!\n",
    "// t = 500: Tick\n",
    "// t = 1000: Tick\n",
    "// t = 1500: Tick\n",
    "// t = 2000: Tick\n",
    "// t = 2000: Bye.\n",
    "// t = 2500: Tick\n",
    "// t = 3000: Tick\n",
    "// ..."
   ]
  },
  {
   "cell_type": "code",
   "execution_count": null,
   "id": "c9e9d501",
   "metadata": {},
   "outputs": [],
   "source": [
    "// this version blocks the main thread\n",
    "\n",
    "function sleep(duration) {\n",
    "  let now = new Date().getTime();\n",
    "  while (new Date().getTime() < now + duration) {\n",
    "    // Do nothing.\n",
    "  }\n",
    "  // Proceed when `duration` has passed since `now`.\n",
    "}\n",
    "\n",
    "\n",
    "async function greeting() {\n",
    "  console.log('Hello!');\n",
    "  sleep(2000);\n",
    "  console.log('Bye.');\n",
    "}\n",
    "\n",
    "setInterval(() => {\n",
    "  console.log('Tick');\n",
    "}, 500);\n",
    "\n",
    "greeting();\n",
    "// t = 0: Hello!\n",
    "// t = 2000: Bye.\n",
    "// t = 2000: Tick\n",
    "// t = 2500: Tick\n",
    "// t = 3000: Tick\n",
    "// ...\n"
   ]
  },
  {
   "cell_type": "code",
   "execution_count": null,
   "id": "3ba8f0a2",
   "metadata": {},
   "outputs": [],
   "source": []
  },
  {
   "cell_type": "code",
   "execution_count": null,
   "id": "f9c23ee9",
   "metadata": {},
   "outputs": [],
   "source": []
  },
  {
   "cell_type": "code",
   "execution_count": null,
   "id": "ee1c0ca7",
   "metadata": {},
   "outputs": [],
   "source": []
  },
  {
   "cell_type": "code",
   "execution_count": null,
   "id": "d88ba2c5",
   "metadata": {},
   "outputs": [],
   "source": []
  },
  {
   "cell_type": "code",
   "execution_count": null,
   "id": "f7dc098f",
   "metadata": {},
   "outputs": [],
   "source": []
  }
 ],
 "metadata": {
  "kernelspec": {
   "display_name": "JavaScript (Node.js)",
   "language": "javascript",
   "name": "javascript"
  },
  "language_info": {
   "file_extension": ".js",
   "mimetype": "application/javascript",
   "name": "javascript",
   "version": "16.14.2"
  }
 },
 "nbformat": 4,
 "nbformat_minor": 5
}
