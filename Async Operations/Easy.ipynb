{
 "cells": [
  {
   "cell_type": "markdown",
   "id": "c23e48db",
   "metadata": {},
   "source": [
    "* Filter:\n",
    "    - Importance: High => Low\n",
    "    - Easy questions only"
   ]
  },
  {
   "cell_type": "markdown",
   "id": "29aa2cbb",
   "metadata": {},
   "source": [
    "## Promise.race()\n",
    "\n",
    "* `.forEach` runs synchronously and initiates all of these async functions are the same time\n",
    "    - you can also do this with `.map` as well\n",
    "    - it has to be a higher order function\n",
    "* whichever one's the fastest will just resolve right away"
   ]
  },
  {
   "cell_type": "code",
   "execution_count": null,
   "id": "dfa25051",
   "metadata": {},
   "outputs": [],
   "source": [
    "/**\n",
    " * @param {Array} iterable\n",
    " * @return {Promise}\n",
    " */\n",
    "export default function promiseRace(iterable) {\n",
    "  return new Promise((resolve, reject) => {\n",
    "    iterable.forEach(async (item) => {\n",
    "      try {\n",
    "        const value = await item;\n",
    "        resolve(item);\n",
    "      } catch(e) {\n",
    "        reject(e);\n",
    "      }\n",
    "    })\n",
    "  })\n",
    "}"
   ]
  },
  {
   "cell_type": "markdown",
   "id": "95c9c8ae",
   "metadata": {},
   "source": [
    "## Cancellable Interval\n",
    "\n",
    "* pretty straightforward\n",
    "* just have to remember that setInterval can take in an arbitrary number of arguments after the delay"
   ]
  },
  {
   "cell_type": "code",
   "execution_count": null,
   "id": "babb786a",
   "metadata": {},
   "outputs": [],
   "source": [
    "/**\n",
    " * @param {Function} callback\n",
    " * @param {number} delay\n",
    " * @param {...any} args\n",
    " * @returns {Function}\n",
    " * \n",
    " * function that cancels the interval\n",
    " *  - would probably still use setInterval\n",
    " *  - but we keep a reference to its timer id\n",
    " *  - then we return a function that will call clearInterval(timerId)\n",
    " */\n",
    "export default function setCancellableInterval(callback, delay, ...args) {\n",
    "  const timerId = setInterval(callback, delay, ...args);\n",
    "\n",
    "  return function() {\n",
    "    clearTimeout(timerId);\n",
    "  }\n",
    "}"
   ]
  },
  {
   "cell_type": "markdown",
   "id": "1e0620b1",
   "metadata": {},
   "source": [
    "## Cancellable Timeout\n",
    "\n",
    "* the exact same as Cancellable Interval except we use setTimeout instead and clearTimeout in the returned cancel function"
   ]
  },
  {
   "cell_type": "code",
   "execution_count": null,
   "id": "764d7987",
   "metadata": {},
   "outputs": [],
   "source": [
    "/**\n",
    " * @param {Function} callback\n",
    " * @param {number} delay\n",
    " * @param {...any} args\n",
    " * @returns {Function}\n",
    " */\n",
    "export default function setCancellableTimeout(callback, delay, ...args) {\n",
    "  const timerId = setTimeout(callback, delay, ...args);\n",
    "\n",
    "  return function() {\n",
    "    clearTimeout(timerId);\n",
    "  }\n",
    "}"
   ]
  },
  {
   "cell_type": "code",
   "execution_count": null,
   "id": "a64fb1b2",
   "metadata": {},
   "outputs": [],
   "source": []
  },
  {
   "cell_type": "code",
   "execution_count": null,
   "id": "97850cea",
   "metadata": {},
   "outputs": [],
   "source": []
  },
  {
   "cell_type": "code",
   "execution_count": null,
   "id": "c5f4b428",
   "metadata": {},
   "outputs": [],
   "source": []
  },
  {
   "cell_type": "code",
   "execution_count": null,
   "id": "25fd9e81",
   "metadata": {},
   "outputs": [],
   "source": []
  }
 ],
 "metadata": {
  "kernelspec": {
   "display_name": "JavaScript (Node.js)",
   "language": "javascript",
   "name": "javascript"
  },
  "language_info": {
   "file_extension": ".js",
   "mimetype": "application/javascript",
   "name": "javascript",
   "version": "16.14.2"
  }
 },
 "nbformat": 4,
 "nbformat_minor": 5
}
