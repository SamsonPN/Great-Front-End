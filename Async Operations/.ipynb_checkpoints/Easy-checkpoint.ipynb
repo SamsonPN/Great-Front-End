{
 "cells": [
  {
   "cell_type": "markdown",
   "id": "eafb43da",
   "metadata": {},
   "source": [
    "* Filter:\n",
    "    - Importance: High => Low\n",
    "    - Easy questions only"
   ]
  },
  {
   "cell_type": "markdown",
   "id": "10de2c2a",
   "metadata": {},
   "source": [
    "## Promise.race()\n",
    "\n",
    "* `.forEach` runs synchronously and initiates all of these async functions are the same time\n",
    "    - you can also do this with `.map` as well\n",
    "    - it has to be a higher order function\n",
    "* whichever one's the fastest will just resolve right away"
   ]
  },
  {
   "cell_type": "code",
   "execution_count": null,
   "id": "ab77bb3d",
   "metadata": {},
   "outputs": [],
   "source": [
    "/**\n",
    " * @param {Array} iterable\n",
    " * @return {Promise}\n",
    " */\n",
    "export default function promiseRace(iterable) {\n",
    "  return new Promise((resolve, reject) => {\n",
    "    iterable.forEach(async (item) => {\n",
    "      try {\n",
    "        const value = await item;\n",
    "        resolve(item);\n",
    "      } catch(e) {\n",
    "        reject(e);\n",
    "      }\n",
    "    })\n",
    "  })\n",
    "}"
   ]
  },
  {
   "cell_type": "markdown",
   "id": "6af2a040",
   "metadata": {},
   "source": [
    "## Cancellable Interval\n",
    "\n",
    "* pretty straightforward\n",
    "* just have to remember that setInterval can take in an arbitrary number of arguments after the delay"
   ]
  },
  {
   "cell_type": "code",
   "execution_count": null,
   "id": "c4cf5d1f",
   "metadata": {},
   "outputs": [],
   "source": [
    "/**\n",
    " * @param {Function} callback\n",
    " * @param {number} delay\n",
    " * @param {...any} args\n",
    " * @returns {Function}\n",
    " * \n",
    " * function that cancels the interval\n",
    " *  - would probably still use setInterval\n",
    " *  - but we keep a reference to its timer id\n",
    " *  - then we return a function that will call clearInterval(timerId)\n",
    " */\n",
    "export default function setCancellableInterval(callback, delay, ...args) {\n",
    "  const timerId = setInterval(callback, delay, ...args);\n",
    "\n",
    "  return function() {\n",
    "    clearTimeout(timerId);\n",
    "  }\n",
    "}"
   ]
  },
  {
   "cell_type": "markdown",
   "id": "b9879510",
   "metadata": {},
   "source": [
    "## Cancellable Timeout\n",
    "\n",
    "* the exact same as Cancellable Interval except we use setTimeout instead and clearTimeout in the returned cancel function"
   ]
  },
  {
   "cell_type": "code",
   "execution_count": null,
   "id": "c2ac300f",
   "metadata": {},
   "outputs": [],
   "source": [
    "/**\n",
    " * @param {Function} callback\n",
    " * @param {number} delay\n",
    " * @param {...any} args\n",
    " * @returns {Function}\n",
    " */\n",
    "export default function setCancellableTimeout(callback, delay, ...args) {\n",
    "  const timerId = setTimeout(callback, delay, ...args);\n",
    "\n",
    "  return function() {\n",
    "    clearTimeout(timerId);\n",
    "  }\n",
    "}"
   ]
  },
  {
   "cell_type": "markdown",
   "id": "4b45da75",
   "metadata": {},
   "source": [
    "## Promise.reject()"
   ]
  },
  {
   "cell_type": "code",
   "execution_count": null,
   "id": "d989b005",
   "metadata": {},
   "outputs": [],
   "source": [
    "/**\n",
    " * @param {*} reason\n",
    " * @returns Promise\n",
    " * \n",
    " */\n",
    "export default function promiseReject(reason) {\n",
    "  return new Promise((_, reject) => {\n",
    "    reject(reason);\n",
    "  });\n",
    "}"
   ]
  },
  {
   "cell_type": "markdown",
   "id": "087f6639",
   "metadata": {},
   "source": [
    "## Sleep\n",
    "\n",
    "* my implementation is non-blocking\n",
    "    - other asynchronous tasks can still run the in background\n",
    "* the other implementation is blocking\n",
    "    - notice that the setInterval callbacks do not run until after greeting() is finished"
   ]
  },
  {
   "cell_type": "code",
   "execution_count": null,
   "id": "32cdf9f9",
   "metadata": {},
   "outputs": [],
   "source": [
    "/**\n",
    " * @param {number} duration\n",
    " * @return {Promise<void>}\n",
    " * \n",
    " * should be able to be used without await\n",
    " * should definitely return a promise then\n",
    " */\n",
    "export default async function sleep(duration) {\n",
    "  return new Promise(resolve => {\n",
    "    setTimeout(resolve, duration);\n",
    "  });\n",
    "}\n",
    "\n",
    "async function greeting() {\n",
    "  console.log('Hello!');\n",
    "  await sleep(2000);\n",
    "  console.log('Bye.');\n",
    "}\n",
    "\n",
    "setInterval(() => {\n",
    "  console.log('Tick');\n",
    "}, 500);\n",
    "\n",
    "greeting();\n",
    "// t = 0: Hello!\n",
    "// t = 500: Tick\n",
    "// t = 1000: Tick\n",
    "// t = 1500: Tick\n",
    "// t = 2000: Tick\n",
    "// t = 2000: Bye.\n",
    "// t = 2500: Tick\n",
    "// t = 3000: Tick\n",
    "// ..."
   ]
  },
  {
   "cell_type": "code",
   "execution_count": null,
   "id": "0e5244dc",
   "metadata": {},
   "outputs": [],
   "source": [
    "// this version blocks the main thread\n",
    "\n",
    "function sleep(duration) {\n",
    "  let now = new Date().getTime();\n",
    "  while (new Date().getTime() < now + duration) {\n",
    "    // Do nothing.\n",
    "  }\n",
    "  // Proceed when `duration` has passed since `now`.\n",
    "}\n",
    "\n",
    "\n",
    "async function greeting() {\n",
    "  console.log('Hello!');\n",
    "  sleep(2000);\n",
    "  console.log('Bye.');\n",
    "}\n",
    "\n",
    "setInterval(() => {\n",
    "  console.log('Tick');\n",
    "}, 500);\n",
    "\n",
    "greeting();\n",
    "// t = 0: Hello!\n",
    "// t = 2000: Bye.\n",
    "// t = 2000: Tick\n",
    "// t = 2500: Tick\n",
    "// t = 3000: Tick\n",
    "// ...\n"
   ]
  },
  {
   "cell_type": "markdown",
   "id": "86ae4254",
   "metadata": {},
   "source": [
    "## Progress Bars\n",
    "\n",
    "* use `transform: scaleX()` instead of adjusting the width since it's smoother\n",
    "    - CSS transforms run on the GPU which has better performance for animations\n",
    "* `scale()` will transform from the center by default\n",
    "    - use `transform-origin: left` to have it start from the left\n",
    "    - [transform-origin](https://developer.mozilla.org/en-US/docs/Web/CSS/transform-origin)"
   ]
  },
  {
   "cell_type": "code",
   "execution_count": null,
   "id": "bed68006",
   "metadata": {},
   "outputs": [],
   "source": [
    "// app.js\n",
    "import { useState } from 'react';\n",
    "\n",
    "export default function App() {\n",
    "  const [numBars, setNumBars] = useState(0);\n",
    "\n",
    "  const bars = () => {\n",
    "    const b = [];\n",
    "    for (let i = 0; i < numBars; i++) {\n",
    "      b.push(\n",
    "        <div className=\"progressWrapper\" key={i}>\n",
    "          <div className=\"progress\" />\n",
    "        </div>\n",
    "      );\n",
    "    }\n",
    "\n",
    "    return b;\n",
    "  }\n",
    "  return (\n",
    "    <div>\n",
    "      <button onClick={() => setNumBars(prev => prev + 1)}>Add</button>\n",
    "      {bars()}\n",
    "    </div>\n",
    "  );\n",
    "}\n",
    "\n",
    "// styles.css\n",
    "body {\n",
    "  font-family: sans-serif;\n",
    "}\n",
    "\n",
    ".progressWrapper {\n",
    "  width: 100%;\n",
    "  background-color: #cccccc;\n",
    "  height: 7.5px;\n",
    "  margin-top: 20px;\n",
    "}\n",
    "\n",
    ".progress {\n",
    "  height: 100%;\n",
    "  animation-duration: 2s;\n",
    "  animation-name: widen;\n",
    "  background-color: #008000;\n",
    "  transform-origin: left;\n",
    "}\n",
    "\n",
    "@keyframes widen {\n",
    "  from {\n",
    "    transform: scaleX(0);\n",
    "  }\n",
    "  to {\n",
    "    transform: scaleX(1);\n",
    "  }\n",
    "}"
   ]
  }
 ],
 "metadata": {
  "kernelspec": {
   "display_name": "JavaScript (Node.js)",
   "language": "javascript",
   "name": "javascript"
  },
  "language_info": {
   "file_extension": ".js",
   "mimetype": "application/javascript",
   "name": "javascript",
   "version": "16.14.2"
  }
 },
 "nbformat": 4,
 "nbformat_minor": 5
}
