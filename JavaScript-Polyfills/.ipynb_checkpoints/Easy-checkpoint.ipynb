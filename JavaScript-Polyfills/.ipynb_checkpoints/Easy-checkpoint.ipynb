{
 "cells": [
  {
   "cell_type": "markdown",
   "id": "e42916f9",
   "metadata": {},
   "source": [
    "## Array.prototype.at()\n",
    "\n",
    "* __USE THE `this` KEYWORD TO ACCESS THE OBJECT THAT YOU'RE CREATING THE PROTOTYPE FOR__\n",
    "    - since we're creating a polyfill for the .at() method, we can use `this` to access the actual array to mutate it"
   ]
  },
  {
   "cell_type": "code",
   "execution_count": null,
   "id": "a54e6182",
   "metadata": {},
   "outputs": [],
   "source": [
    "// my solution\n",
    "/**\n",
    " * @param {number} index\n",
    " * @return {any | undefined}\n",
    " * \n",
    " * arr = [42, 79]\n",
    " * arr[0] = 42\n",
    " * arr[1] = 79\n",
    " * arr[2] = undefined. if index >= arr.len\n",
    " * \n",
    " * arr[-1] = 79\n",
    " * arr[-2] = 42\n",
    " * arr[-3] = undefined\n",
    " * \n",
    " * arr.len + index => 2 + (-1) = 1 => 79\n",
    " * 2 + (-2) = 0 => 42\n",
    " * 2 + (-3) = -1 => undefined\n",
    " * if (arr.len + index < 0) return undefined\n",
    " * \n",
    " * so index is guaranteed to be a number\n",
    " * it can be a floaty number so must convert to an integer\n",
    " */\n",
    "Array.prototype.myAt = function (index) {\n",
    "  // if index is not an actual integer, we must convert\n",
    "  index = Math.trunc(index);\n",
    "  \n",
    "  const { length } = this;\n",
    "  if (index >= length) return;\n",
    "\n",
    "  if (index < 0) {\n",
    "    // negative index\n",
    "    index = length + index;\n",
    "  }\n",
    "\n",
    "  if (index < 0) return;\n",
    "\n",
    "  return this[index];\n",
    "};"
   ]
  },
  {
   "cell_type": "code",
   "execution_count": null,
   "id": "f55aab88",
   "metadata": {},
   "outputs": [],
   "source": [
    "// actual solution\n",
    "\n",
    "/**\n",
    " * @param {number} index\n",
    " * @return {any | undefined}\n",
    " */\n",
    "Array.prototype.myAt = function (index) {\n",
    "  const len = this.length;\n",
    "  if (index < -len || index >= len) {\n",
    "    return;\n",
    "  }\n",
    "\n",
    "  return this[(index + len) % len];\n",
    "};\n"
   ]
  },
  {
   "cell_type": "code",
   "execution_count": null,
   "id": "403911c8",
   "metadata": {},
   "outputs": [],
   "source": []
  },
  {
   "cell_type": "code",
   "execution_count": null,
   "id": "cf425d5a",
   "metadata": {},
   "outputs": [],
   "source": []
  },
  {
   "cell_type": "code",
   "execution_count": null,
   "id": "827000a0",
   "metadata": {},
   "outputs": [],
   "source": []
  },
  {
   "cell_type": "code",
   "execution_count": null,
   "id": "b55bf3bf",
   "metadata": {},
   "outputs": [],
   "source": []
  }
 ],
 "metadata": {
  "kernelspec": {
   "display_name": "JavaScript (Node.js)",
   "language": "javascript",
   "name": "javascript"
  },
  "language_info": {
   "file_extension": ".js",
   "mimetype": "application/javascript",
   "name": "javascript",
   "version": "16.14.2"
  }
 },
 "nbformat": 4,
 "nbformat_minor": 5
}
